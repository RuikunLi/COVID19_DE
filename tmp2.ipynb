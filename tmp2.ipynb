{
 "cells": [
  {
   "cell_type": "code",
   "execution_count": 5,
   "metadata": {
    "ExecuteTime": {
     "end_time": "2020-03-09T18:45:54.513954Z",
     "start_time": "2020-03-09T18:45:51.347862Z"
    }
   },
   "outputs": [],
   "source": [
    "import nltk\n",
    "from nltk.tokenize import word_tokenize\n",
    "from nltk.tag import pos_tag"
   ]
  },
  {
   "cell_type": "code",
   "execution_count": 31,
   "metadata": {
    "ExecuteTime": {
     "end_time": "2020-03-09T18:58:18.804479Z",
     "start_time": "2020-03-09T18:58:18.800487Z"
    }
   },
   "outputs": [],
   "source": [
    "ex = 'Die #Infizierungsfälle 920 - 925 wurden in #Deutschland soeben bekannt gegeben. Es handelt sich um das Bundesland Rheinland-Pfalz. Das gab das Ministerium eben bekannt. Landkreise: 1 x Bitburg/Prüm 1 x Neuwied 2 x Koblenz 2 x Bad Dürkheim #COVID19 #coronavirus #2019nCoV'"
   ]
  },
  {
   "cell_type": "code",
   "execution_count": 32,
   "metadata": {
    "ExecuteTime": {
     "end_time": "2020-03-09T18:58:23.242583Z",
     "start_time": "2020-03-09T18:58:23.237594Z"
    }
   },
   "outputs": [],
   "source": [
    "def preprocess(sent):\n",
    "    sent = nltk.word_tokenize(sent)\n",
    "    sent = nltk.pos_tag(sent)\n",
    "    return sent"
   ]
  },
  {
   "cell_type": "code",
   "execution_count": 33,
   "metadata": {
    "ExecuteTime": {
     "end_time": "2020-03-09T18:58:25.828695Z",
     "start_time": "2020-03-09T18:58:25.812738Z"
    }
   },
   "outputs": [
    {
     "data": {
      "text/plain": [
       "[('Die', 'NNP'),\n",
       " ('#', '#'),\n",
       " ('Infizierungsfälle', 'NNP'),\n",
       " ('920', 'CD'),\n",
       " ('-', ':'),\n",
       " ('925', 'CD'),\n",
       " ('wurden', 'NN'),\n",
       " ('in', 'IN'),\n",
       " ('#', '#'),\n",
       " ('Deutschland', 'NNP'),\n",
       " ('soeben', 'NN'),\n",
       " ('bekannt', 'NN'),\n",
       " ('gegeben', 'NN'),\n",
       " ('.', '.'),\n",
       " ('Es', 'NNP'),\n",
       " ('handelt', 'VBD'),\n",
       " ('sich', 'JJ'),\n",
       " ('um', 'JJ'),\n",
       " ('das', 'NNS'),\n",
       " ('Bundesland', 'NNP'),\n",
       " ('Rheinland-Pfalz', 'NNP'),\n",
       " ('.', '.'),\n",
       " ('Das', 'NNP'),\n",
       " ('gab', 'NN'),\n",
       " ('das', 'NN'),\n",
       " ('Ministerium', 'NNP'),\n",
       " ('eben', 'NN'),\n",
       " ('bekannt', 'NN'),\n",
       " ('.', '.'),\n",
       " ('Landkreise', 'NN'),\n",
       " (':', ':'),\n",
       " ('1', 'CD'),\n",
       " ('x', 'NN'),\n",
       " ('Bitburg/Prüm', 'NNP'),\n",
       " ('1', 'CD'),\n",
       " ('x', 'NNP'),\n",
       " ('Neuwied', 'VBD'),\n",
       " ('2', 'CD'),\n",
       " ('x', 'NNP'),\n",
       " ('Koblenz', 'NNP'),\n",
       " ('2', 'CD'),\n",
       " ('x', 'NNP'),\n",
       " ('Bad', 'NNP'),\n",
       " ('Dürkheim', 'NNP'),\n",
       " ('#', '#'),\n",
       " ('COVID19', 'NNP'),\n",
       " ('#', '#'),\n",
       " ('coronavirus', 'NN'),\n",
       " ('#', '#'),\n",
       " ('2019nCoV', 'CD')]"
      ]
     },
     "execution_count": 33,
     "metadata": {},
     "output_type": "execute_result"
    }
   ],
   "source": [
    "sent = preprocess(ex)\n",
    "sent"
   ]
  },
  {
   "cell_type": "code",
   "execution_count": 12,
   "metadata": {
    "ExecuteTime": {
     "end_time": "2020-03-09T18:47:27.757946Z",
     "start_time": "2020-03-09T18:47:27.752959Z"
    }
   },
   "outputs": [],
   "source": [
    "pattern = 'NP: {<DT>?<JJ>*<NN>}'"
   ]
  },
  {
   "cell_type": "code",
   "execution_count": 34,
   "metadata": {
    "ExecuteTime": {
     "end_time": "2020-03-09T18:58:38.451888Z",
     "start_time": "2020-03-09T18:58:38.444904Z"
    }
   },
   "outputs": [
    {
     "name": "stdout",
     "output_type": "stream",
     "text": [
      "(S\n",
      "  Die/NNP\n",
      "  #/#\n",
      "  Infizierungsfälle/NNP\n",
      "  920/CD\n",
      "  -/:\n",
      "  925/CD\n",
      "  (NP wurden/NN)\n",
      "  in/IN\n",
      "  #/#\n",
      "  Deutschland/NNP\n",
      "  (NP soeben/NN)\n",
      "  (NP bekannt/NN)\n",
      "  (NP gegeben/NN)\n",
      "  ./.\n",
      "  Es/NNP\n",
      "  handelt/VBD\n",
      "  sich/JJ\n",
      "  um/JJ\n",
      "  das/NNS\n",
      "  Bundesland/NNP\n",
      "  Rheinland-Pfalz/NNP\n",
      "  ./.\n",
      "  Das/NNP\n",
      "  (NP gab/NN)\n",
      "  (NP das/NN)\n",
      "  Ministerium/NNP\n",
      "  (NP eben/NN)\n",
      "  (NP bekannt/NN)\n",
      "  ./.\n",
      "  (NP Landkreise/NN)\n",
      "  :/:\n",
      "  1/CD\n",
      "  (NP x/NN)\n",
      "  Bitburg/Prüm/NNP\n",
      "  1/CD\n",
      "  x/NNP\n",
      "  Neuwied/VBD\n",
      "  2/CD\n",
      "  x/NNP\n",
      "  Koblenz/NNP\n",
      "  2/CD\n",
      "  x/NNP\n",
      "  Bad/NNP\n",
      "  Dürkheim/NNP\n",
      "  #/#\n",
      "  COVID19/NNP\n",
      "  #/#\n",
      "  (NP coronavirus/NN)\n",
      "  #/#\n",
      "  2019nCoV/CD)\n"
     ]
    }
   ],
   "source": [
    "cp = nltk.RegexpParser(pattern)\n",
    "cs = cp.parse(sent)\n",
    "print(cs)"
   ]
  },
  {
   "cell_type": "code",
   "execution_count": 35,
   "metadata": {
    "ExecuteTime": {
     "end_time": "2020-03-09T18:58:46.264978Z",
     "start_time": "2020-03-09T18:58:46.170264Z"
    }
   },
   "outputs": [
    {
     "name": "stdout",
     "output_type": "stream",
     "text": [
      "[('Die', 'NNP', 'O'),\n",
      " ('#', '#', 'O'),\n",
      " ('Infizierungsfälle', 'NNP', 'O'),\n",
      " ('920', 'CD', 'O'),\n",
      " ('-', ':', 'O'),\n",
      " ('925', 'CD', 'O'),\n",
      " ('wurden', 'NN', 'B-NP'),\n",
      " ('in', 'IN', 'O'),\n",
      " ('#', '#', 'O'),\n",
      " ('Deutschland', 'NNP', 'O'),\n",
      " ('soeben', 'NN', 'B-NP'),\n",
      " ('bekannt', 'NN', 'B-NP'),\n",
      " ('gegeben', 'NN', 'B-NP'),\n",
      " ('.', '.', 'O'),\n",
      " ('Es', 'NNP', 'O'),\n",
      " ('handelt', 'VBD', 'O'),\n",
      " ('sich', 'JJ', 'O'),\n",
      " ('um', 'JJ', 'O'),\n",
      " ('das', 'NNS', 'O'),\n",
      " ('Bundesland', 'NNP', 'O'),\n",
      " ('Rheinland-Pfalz', 'NNP', 'O'),\n",
      " ('.', '.', 'O'),\n",
      " ('Das', 'NNP', 'O'),\n",
      " ('gab', 'NN', 'B-NP'),\n",
      " ('das', 'NN', 'B-NP'),\n",
      " ('Ministerium', 'NNP', 'O'),\n",
      " ('eben', 'NN', 'B-NP'),\n",
      " ('bekannt', 'NN', 'B-NP'),\n",
      " ('.', '.', 'O'),\n",
      " ('Landkreise', 'NN', 'B-NP'),\n",
      " (':', ':', 'O'),\n",
      " ('1', 'CD', 'O'),\n",
      " ('x', 'NN', 'B-NP'),\n",
      " ('Bitburg/Prüm', 'NNP', 'O'),\n",
      " ('1', 'CD', 'O'),\n",
      " ('x', 'NNP', 'O'),\n",
      " ('Neuwied', 'VBD', 'O'),\n",
      " ('2', 'CD', 'O'),\n",
      " ('x', 'NNP', 'O'),\n",
      " ('Koblenz', 'NNP', 'O'),\n",
      " ('2', 'CD', 'O'),\n",
      " ('x', 'NNP', 'O'),\n",
      " ('Bad', 'NNP', 'O'),\n",
      " ('Dürkheim', 'NNP', 'O'),\n",
      " ('#', '#', 'O'),\n",
      " ('COVID19', 'NNP', 'O'),\n",
      " ('#', '#', 'O'),\n",
      " ('coronavirus', 'NN', 'B-NP'),\n",
      " ('#', '#', 'O'),\n",
      " ('2019nCoV', 'CD', 'O')]\n"
     ]
    }
   ],
   "source": [
    "from nltk.chunk import conlltags2tree, tree2conlltags\n",
    "from pprint import pprint\n",
    "iob_tagged = tree2conlltags(cs)\n",
    "pprint(iob_tagged)"
   ]
  },
  {
   "cell_type": "code",
   "execution_count": 36,
   "metadata": {
    "ExecuteTime": {
     "end_time": "2020-03-09T18:58:58.255920Z",
     "start_time": "2020-03-09T18:58:58.223980Z"
    }
   },
   "outputs": [
    {
     "name": "stdout",
     "output_type": "stream",
     "text": [
      "(S\n",
      "  Die/NNP\n",
      "  #/#\n",
      "  Infizierungsfälle/NNP\n",
      "  920/CD\n",
      "  -/:\n",
      "  925/CD\n",
      "  wurden/NN\n",
      "  in/IN\n",
      "  #/#\n",
      "  (GPE Deutschland/NNP)\n",
      "  soeben/NN\n",
      "  bekannt/NN\n",
      "  gegeben/NN\n",
      "  ./.\n",
      "  (PERSON Es/NNP)\n",
      "  handelt/VBD\n",
      "  sich/JJ\n",
      "  um/JJ\n",
      "  das/NNS\n",
      "  (ORGANIZATION Bundesland/NNP)\n",
      "  Rheinland-Pfalz/NNP\n",
      "  ./.\n",
      "  Das/NNP\n",
      "  gab/NN\n",
      "  das/NN\n",
      "  Ministerium/NNP\n",
      "  eben/NN\n",
      "  bekannt/NN\n",
      "  ./.\n",
      "  Landkreise/NN\n",
      "  :/:\n",
      "  1/CD\n",
      "  x/NN\n",
      "  Bitburg/Prüm/NNP\n",
      "  1/CD\n",
      "  x/NNP\n",
      "  Neuwied/VBD\n",
      "  2/CD\n",
      "  x/NNP\n",
      "  Koblenz/NNP\n",
      "  2/CD\n",
      "  x/NNP\n",
      "  Bad/NNP\n",
      "  Dürkheim/NNP\n",
      "  #/#\n",
      "  (ORGANIZATION COVID19/NNP)\n",
      "  #/#\n",
      "  coronavirus/NN\n",
      "  #/#\n",
      "  2019nCoV/CD)\n"
     ]
    }
   ],
   "source": [
    "from nltk import ne_chunk\n",
    "ne_tree = ne_chunk(pos_tag(word_tokenize(ex)))\n",
    "print(ne_tree)"
   ]
  },
  {
   "cell_type": "code",
   "execution_count": 18,
   "metadata": {
    "ExecuteTime": {
     "end_time": "2020-03-09T18:50:58.663299Z",
     "start_time": "2020-03-09T18:50:57.439505Z"
    }
   },
   "outputs": [],
   "source": [
    "import spacy\n",
    "from spacy import displacy\n",
    "from collections import Counter\n",
    "import de_core_news_sm\n",
    "nlp = de_core_news_sm.load()"
   ]
  },
  {
   "cell_type": "code",
   "execution_count": 76,
   "metadata": {
    "ExecuteTime": {
     "end_time": "2020-03-09T19:19:14.914260Z",
     "start_time": "2020-03-09T19:19:14.878355Z"
    }
   },
   "outputs": [
    {
     "name": "stdout",
     "output_type": "stream",
     "text": [
      "[('Deutschland', 'LOC'),\n",
      " ('Rheinland-Pfalz', 'LOC'),\n",
      " ('Ministerium', 'ORG'),\n",
      " ('Bad Dürkheim', 'LOC'),\n",
      " ('COVID19 #', 'MISC')]\n"
     ]
    }
   ],
   "source": [
    "doc = nlp(ex)\n",
    "pprint([(X.text, X.label_) for X in doc.ents])"
   ]
  },
  {
   "cell_type": "code",
   "execution_count": 70,
   "metadata": {
    "ExecuteTime": {
     "end_time": "2020-03-09T19:14:03.035581Z",
     "start_time": "2020-03-09T19:14:03.031556Z"
    }
   },
   "outputs": [],
   "source": [
    "# pprint([(X, X.ent_iob_, X.ent_type_) for X in doc])\n"
   ]
  },
  {
   "cell_type": "code",
   "execution_count": 72,
   "metadata": {
    "ExecuteTime": {
     "end_time": "2020-03-09T19:14:52.952013Z",
     "start_time": "2020-03-09T19:14:52.945004Z"
    }
   },
   "outputs": [
    {
     "data": {
      "text/plain": [
       "['920', '925', '1', '1', '2', '2', '19', '2019']"
      ]
     },
     "execution_count": 72,
     "metadata": {},
     "output_type": "execute_result"
    }
   ],
   "source": [
    "import re\n",
    "re.findall(r'\\d+', ex)"
   ]
  },
  {
   "cell_type": "code",
   "execution_count": 71,
   "metadata": {
    "ExecuteTime": {
     "end_time": "2020-03-09T19:14:50.564370Z",
     "start_time": "2020-03-09T19:14:50.557389Z"
    }
   },
   "outputs": [
    {
     "data": {
      "text/plain": [
       "'Die #Infizierungsfälle 920 - 925 wurden in #Deutschland soeben bekannt gegeben. Es handelt sich um das Bundesland Rheinland-Pfalz. Das gab das Ministerium eben bekannt. Landkreise: 1 x Bitburg/Prüm 1 x Neuwied 2 x Koblenz 2 x Bad Dürkheim #COVID19 #coronavirus #2019nCoV'"
      ]
     },
     "execution_count": 71,
     "metadata": {},
     "output_type": "execute_result"
    }
   ],
   "source": [
    "ex"
   ]
  },
  {
   "cell_type": "code",
   "execution_count": 73,
   "metadata": {
    "ExecuteTime": {
     "end_time": "2020-03-09T19:15:56.359896Z",
     "start_time": "2020-03-09T19:15:56.092544Z"
    }
   },
   "outputs": [],
   "source": [
    "df_location = pd.read_csv('landkreise-in-germany.csv',sep=';')\n",
    "\n",
    "df_location.replace('Deutchland','Deutschland',inplace=True)"
   ]
  },
  {
   "cell_type": "code",
   "execution_count": 74,
   "metadata": {
    "ExecuteTime": {
     "end_time": "2020-03-09T19:16:04.047261Z",
     "start_time": "2020-03-09T19:16:04.040309Z"
    }
   },
   "outputs": [],
   "source": [
    "l = list(df_location['Name 2'].unique())\n",
    "\n",
    "cityList = []\n",
    "for i in l:\n",
    "    for x in i.split():\n",
    "        cityList.append(x)\n"
   ]
  },
  {
   "cell_type": "code",
   "execution_count": 75,
   "metadata": {
    "ExecuteTime": {
     "end_time": "2020-03-09T19:16:14.223031Z",
     "start_time": "2020-03-09T19:16:14.217054Z"
    }
   },
   "outputs": [],
   "source": [
    "l = list(df_location['Name 1'].unique())\n",
    "stateList = []\n",
    "for i in l:\n",
    "    for x in i.split():\n",
    "        stateList.append(x)"
   ]
  },
  {
   "cell_type": "code",
   "execution_count": null,
   "metadata": {},
   "outputs": [],
   "source": []
  }
 ],
 "metadata": {
  "kernelspec": {
   "display_name": "Python 3",
   "language": "python",
   "name": "python3"
  },
  "language_info": {
   "codemirror_mode": {
    "name": "ipython",
    "version": 3
   },
   "file_extension": ".py",
   "mimetype": "text/x-python",
   "name": "python",
   "nbconvert_exporter": "python",
   "pygments_lexer": "ipython3",
   "version": "3.7.4"
  }
 },
 "nbformat": 4,
 "nbformat_minor": 2
}
